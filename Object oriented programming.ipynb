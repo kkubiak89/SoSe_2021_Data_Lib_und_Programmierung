{
 "cells": [
  {
   "cell_type": "code",
   "execution_count": 1,
   "metadata": {},
   "outputs": [],
   "source": [
    "class Book():\n",
    "    pass\n",
    "\n",
    "book_1 = Book ()"
   ]
  },
  {
   "cell_type": "code",
   "execution_count": 2,
   "metadata": {},
   "outputs": [
    {
     "data": {
      "text/plain": [
       "__main__.Book"
      ]
     },
     "execution_count": 2,
     "metadata": {},
     "output_type": "execute_result"
    }
   ],
   "source": [
    "type(book_1)"
   ]
  },
  {
   "cell_type": "code",
   "execution_count": 3,
   "metadata": {},
   "outputs": [
    {
     "name": "stdout",
     "output_type": "stream",
     "text": [
      "New book created\n"
     ]
    }
   ],
   "source": [
    "# the funtion __init__ is called when a new instance of the class book is generated\n",
    "class Book():\n",
    "    \n",
    "    def __init__(self):\n",
    "        print(\"New book created\")\n",
    "        \n",
    "book_1 = Book ()"
   ]
  },
  {
   "cell_type": "code",
   "execution_count": 5,
   "metadata": {},
   "outputs": [
    {
     "name": "stdout",
     "output_type": "stream",
     "text": [
      "Microbiology 101\n"
     ]
    }
   ],
   "source": [
    "class Book():\n",
    "    \n",
    "    def __init__(self, title):\n",
    "        # setting an attribute\n",
    "        self.title = title\n",
    "        \n",
    "book_1 = Book (\"Microbiology 101\")\n",
    "print(book_1.title)"
   ]
  },
  {
   "cell_type": "code",
   "execution_count": 13,
   "metadata": {},
   "outputs": [
    {
     "name": "stdout",
     "output_type": "stream",
     "text": [
      "Book Title: Microbiology 101\n"
     ]
    }
   ],
   "source": [
    "class Book():\n",
    "    \n",
    "    def __init__(self, title):\n",
    "        # setting an attribute\n",
    "        self.title = title\n",
    "        \n",
    "    def tell_title(self):\n",
    "        print(\"Book Title: \" + self.title)\n",
    "        \n",
    "book_1 = Book (\"Microbiology 101\")\n",
    "book_1.tell_title()"
   ]
  },
  {
   "cell_type": "code",
   "execution_count": 16,
   "metadata": {},
   "outputs": [
    {
     "name": "stdout",
     "output_type": "stream",
     "text": [
      "Book Title: Microbiology 101\n",
      "Order status: available\n"
     ]
    }
   ],
   "source": [
    "class Book():\n",
    "    \n",
    "    def __init__(self, title):\n",
    "        # setting an attribute\n",
    "        self.title = title\n",
    "        self.order_status =\"available\"\n",
    "        \n",
    "    def tell_title(self):\n",
    "        print(\"Book Title: \" + self.title)\n",
    "        \n",
    "    def tell_order_status(self):\n",
    "        print(\"Order status: \"+self.order_status)\n",
    "        \n",
    "book_1 = Book (\"Microbiology 101\")\n",
    "book_1.tell_title()\n",
    "book_1.tell_order_status()"
   ]
  },
  {
   "cell_type": "code",
   "execution_count": 17,
   "metadata": {},
   "outputs": [
    {
     "name": "stdout",
     "output_type": "stream",
     "text": [
      "Book Title: Microbiology 101\n",
      "Order status: available\n",
      "Order status: ordered\n"
     ]
    }
   ],
   "source": [
    "class Book():\n",
    "    \n",
    "    def __init__(self, title):\n",
    "        # setting an attribute\n",
    "        self.title = title\n",
    "        self.order_status =\"available\"\n",
    "        \n",
    "    def tell_title(self):\n",
    "        print(\"Book Title: \" + self.title)\n",
    "        \n",
    "    def tell_order_status(self):\n",
    "        print(\"Order status: \"+self.order_status)\n",
    "        \n",
    "    def order(self):\n",
    "        self.order_status = \"ordered\"\n",
    "        \n",
    "book_1 = Book (\"Microbiology 101\")\n",
    "book_1.tell_title()\n",
    "book_1.tell_order_status()\n",
    "book_1.order()\n",
    "book_1.tell_order_status()"
   ]
  },
  {
   "cell_type": "code",
   "execution_count": 19,
   "metadata": {},
   "outputs": [
    {
     "name": "stdout",
     "output_type": "stream",
     "text": [
      "Book Title: Microbiology 101\n",
      "Order status: available\n",
      "Order status: ordered\n",
      "Order status: available\n"
     ]
    }
   ],
   "source": [
    "class Book():\n",
    "    \n",
    "    def __init__(self, title):\n",
    "        # setting an attribute\n",
    "        self.title = title\n",
    "        self.order_status =\"available\"\n",
    "        \n",
    "    def tell_title(self):\n",
    "        print(\"Book Title: \" + self.title)\n",
    "        \n",
    "    def tell_order_status(self):\n",
    "        print(\"Order status: \"+self.order_status)\n",
    "        \n",
    "    def order(self):\n",
    "        self.order_status = \"ordered\"\n",
    "        \n",
    "    def return_item(self):\n",
    "        self.order_status = \"available\"\n",
    "        \n",
    "book_1 = Book (\"Microbiology 101\")\n",
    "book_1.tell_title()\n",
    "book_1.tell_order_status()\n",
    "book_1.order()\n",
    "book_1.tell_order_status()\n",
    "book_1.return_item()\n",
    "book_1.tell_order_status()"
   ]
  },
  {
   "cell_type": "code",
   "execution_count": null,
   "metadata": {},
   "outputs": [],
   "source": []
  },
  {
   "cell_type": "code",
   "execution_count": null,
   "metadata": {},
   "outputs": [],
   "source": []
  }
 ],
 "metadata": {
  "kernelspec": {
   "display_name": "Python 3",
   "language": "python",
   "name": "python3"
  },
  "language_info": {
   "codemirror_mode": {
    "name": "ipython",
    "version": 3
   },
   "file_extension": ".py",
   "mimetype": "text/x-python",
   "name": "python",
   "nbconvert_exporter": "python",
   "pygments_lexer": "ipython3",
   "version": "3.8.5"
  }
 },
 "nbformat": 4,
 "nbformat_minor": 4
}
